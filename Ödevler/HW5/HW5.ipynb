{
  "nbformat": 4,
  "nbformat_minor": 0,
  "metadata": {
    "colab": {
      "provenance": []
    },
    "kernelspec": {
      "name": "python3",
      "display_name": "Python 3"
    },
    "language_info": {
      "name": "python"
    }
  },
  "cells": [
    {
      "cell_type": "code",
      "source": [
        "!pip install tensorflow-addons"
      ],
      "metadata": {
        "colab": {
          "base_uri": "https://localhost:8080/"
        },
        "id": "V5mPee0x_6oe",
        "outputId": "727a2b82-e938-41cc-dfa9-e9bffbc12999"
      },
      "execution_count": 1,
      "outputs": [
        {
          "output_type": "stream",
          "name": "stdout",
          "text": [
            "Requirement already satisfied: tensorflow-addons in /usr/local/lib/python3.10/dist-packages (0.23.0)\n",
            "Requirement already satisfied: packaging in /usr/local/lib/python3.10/dist-packages (from tensorflow-addons) (23.2)\n",
            "Requirement already satisfied: typeguard<3.0.0,>=2.7 in /usr/local/lib/python3.10/dist-packages (from tensorflow-addons) (2.13.3)\n"
          ]
        }
      ]
    },
    {
      "cell_type": "code",
      "source": [
        "import torch\n",
        "import torch.nn as nn\n",
        "import torch.optim as optim\n",
        "from torch.utils.data import TensorDataset, DataLoader\n",
        "from sklearn.model_selection import train_test_split\n",
        "import numpy as np\n",
        "import torch.nn.functional as F\n",
        "from sklearn.metrics import accuracy_score"
      ],
      "metadata": {
        "id": "tAjlKqnw11dT"
      },
      "execution_count": 1,
      "outputs": []
    },
    {
      "cell_type": "code",
      "execution_count": 2,
      "metadata": {
        "colab": {
          "base_uri": "https://localhost:8080/"
        },
        "id": "PbVnJnMV0pXM",
        "outputId": "9903f7e1-7299-4df5-b0a6-28b126c627d5"
      },
      "outputs": [
        {
          "output_type": "stream",
          "name": "stdout",
          "text": [
            "(936, 3600)\n"
          ]
        }
      ],
      "source": [
        "# Load data\n",
        "X_train = np.load('/content/DataForClassification_TimeDomain.npy')\n",
        "X_train = np.transpose(X_train)\n",
        "print(X_train.shape)"
      ]
    },
    {
      "cell_type": "code",
      "source": [
        "# labels\n",
        "Y_train = np.zeros((936, 1))\n",
        "label = 0\n",
        "\n",
        "for i in range(936):\n",
        "    Y_train[i] = label\n",
        "    if i % 104 == 0 and i != 0:\n",
        "        label += 1\n",
        "\n",
        "# one hot encoding\n",
        "Y_train = np.eye(9)[Y_train.astype(int).flatten()]"
      ],
      "metadata": {
        "id": "DwtjdyxM19Iq"
      },
      "execution_count": 3,
      "outputs": []
    },
    {
      "cell_type": "code",
      "source": [
        "# Train-Test Split\n",
        "X_train, X_test, Y_train, Y_test = train_test_split(X_train, Y_train, test_size=0.2, random_state=0)\n",
        "X_train, X_val, Y_train, Y_val = train_test_split(X_train, Y_train, test_size=0.125, random_state=0)  # 0.125 x 0.8 = 0.1"
      ],
      "metadata": {
        "id": "ucoJo9_m17HE"
      },
      "execution_count": 4,
      "outputs": []
    },
    {
      "cell_type": "code",
      "source": [
        "X_train = np.array(X_train)\n",
        "X_val = np.array(X_val)\n",
        "X_test = np.array(X_test)\n",
        "Y_train = np.array(Y_train)\n",
        "Y_val = np.array(Y_val)\n",
        "Y_test = np.array(Y_test)"
      ],
      "metadata": {
        "id": "JTQ9wHXm9pQ4"
      },
      "execution_count": 8,
      "outputs": []
    },
    {
      "cell_type": "code",
      "source": [
        "# Convert to PyTorch tensors\n",
        "X_train = torch.from_numpy(X_train).float()\n",
        "X_val = torch.from_numpy(X_val).float()\n",
        "X_test = torch.from_numpy(X_test).float()\n",
        "Y_train = torch.from_numpy(Y_train).float()\n",
        "Y_val = torch.from_numpy(Y_val).float()\n",
        "Y_test = torch.from_numpy(Y_test).float()\n",
        "\n",
        "# Create Dataloaders\n",
        "train_dataset = TensorDataset(X_train, Y_train)\n",
        "val_dataset = TensorDataset(X_val, Y_val)\n",
        "test_dataset = TensorDataset(X_test, Y_test)\n",
        "\n",
        "train_loader = DataLoader(train_dataset, batch_size=64, shuffle=True)\n",
        "val_loader = DataLoader(val_dataset, batch_size=64)\n",
        "test_loader = DataLoader(test_dataset, batch_size=1)"
      ],
      "metadata": {
        "id": "fx9k93UI08Vz"
      },
      "execution_count": 9,
      "outputs": []
    },
    {
      "cell_type": "code",
      "source": [
        "# Define model\n",
        "class GRUModel(nn.Module):\n",
        "    def __init__(self):\n",
        "        super(GRUModel, self).__init__()\n",
        "        self.gru = nn.GRU(input_size=3600, hidden_size=32, num_layers=1, batch_first=True)\n",
        "        self.flatten = nn.Flatten()\n",
        "        self.fc1 = nn.Linear(32, 8)\n",
        "        self.fc2 = nn.Linear(8, 9)\n",
        "\n",
        "    def forward(self, x):\n",
        "      out, _ = self.gru(x)\n",
        "      out = self.flatten(out)\n",
        "      out = F.relu(self.fc1(out))  # Apply ReLU activation after the linear transformation\n",
        "      out = self.fc2(out)\n",
        "      return out"
      ],
      "metadata": {
        "id": "WVlNsnay08hR"
      },
      "execution_count": 16,
      "outputs": []
    },
    {
      "cell_type": "code",
      "source": [
        "# Instantiate model and define loss function and optimizer\n",
        "model = GRUModel()\n",
        "criterion = nn.CrossEntropyLoss()\n",
        "optimizer = optim.Adam(model.parameters(), lr=1e-3)"
      ],
      "metadata": {
        "id": "GW77J4vq08jh"
      },
      "execution_count": 17,
      "outputs": []
    },
    {
      "cell_type": "code",
      "source": [
        "# Training loop\n",
        "num_epochs = 50\n",
        "batch_size = 64\n",
        "\n",
        "for epoch in range(num_epochs):\n",
        "    model.train()\n",
        "    for data, target in train_loader:\n",
        "        optimizer.zero_grad()\n",
        "        output = model(data)\n",
        "        loss = criterion(output, target)\n",
        "        loss.backward()\n",
        "        optimizer.step()\n",
        "\n",
        "    model.eval()\n",
        "    with torch.no_grad():\n",
        "        valid_loss = sum(criterion(model(data), target) for data, target in val_loader)\n",
        "    print(f'Epoch {epoch + 1}, Validation Loss: {valid_loss.item()}')\n"
      ],
      "metadata": {
        "colab": {
          "base_uri": "https://localhost:8080/"
        },
        "id": "oBHstOqH1A3t",
        "outputId": "35ed6a94-85ea-4c82-8cd6-24d7715e98cd"
      },
      "execution_count": 19,
      "outputs": [
        {
          "output_type": "stream",
          "name": "stdout",
          "text": [
            "Epoch 1, Validation Loss: 0.2602686882019043\n",
            "Epoch 2, Validation Loss: 0.2595467269420624\n",
            "Epoch 3, Validation Loss: 0.26103079319000244\n",
            "Epoch 4, Validation Loss: 0.2623788118362427\n",
            "Epoch 5, Validation Loss: 0.26183202862739563\n",
            "Epoch 6, Validation Loss: 0.2598229646682739\n",
            "Epoch 7, Validation Loss: 0.25611716508865356\n",
            "Epoch 8, Validation Loss: 0.25425997376441956\n",
            "Epoch 9, Validation Loss: 0.2529585659503937\n",
            "Epoch 10, Validation Loss: 0.25070956349372864\n",
            "Epoch 11, Validation Loss: 0.24940335750579834\n",
            "Epoch 12, Validation Loss: 0.24774566292762756\n",
            "Epoch 13, Validation Loss: 0.24513304233551025\n",
            "Epoch 14, Validation Loss: 0.24451862275600433\n",
            "Epoch 15, Validation Loss: 0.24205847084522247\n",
            "Epoch 16, Validation Loss: 0.24214056134223938\n",
            "Epoch 17, Validation Loss: 0.24298253655433655\n",
            "Epoch 18, Validation Loss: 0.2435712218284607\n",
            "Epoch 19, Validation Loss: 0.24436287581920624\n",
            "Epoch 20, Validation Loss: 0.24361184239387512\n",
            "Epoch 21, Validation Loss: 0.24041183292865753\n",
            "Epoch 22, Validation Loss: 0.23854875564575195\n",
            "Epoch 23, Validation Loss: 0.23694944381713867\n",
            "Epoch 24, Validation Loss: 0.23582161962985992\n",
            "Epoch 25, Validation Loss: 0.23656326532363892\n",
            "Epoch 26, Validation Loss: 0.23685751855373383\n",
            "Epoch 27, Validation Loss: 0.23687270283699036\n",
            "Epoch 28, Validation Loss: 0.23705559968948364\n",
            "Epoch 29, Validation Loss: 0.23633800446987152\n",
            "Epoch 30, Validation Loss: 0.23525145649909973\n",
            "Epoch 31, Validation Loss: 0.23471972346305847\n",
            "Epoch 32, Validation Loss: 0.23317557573318481\n",
            "Epoch 33, Validation Loss: 0.23313546180725098\n",
            "Epoch 34, Validation Loss: 0.2330395132303238\n",
            "Epoch 35, Validation Loss: 0.23346298933029175\n",
            "Epoch 36, Validation Loss: 0.2318054884672165\n",
            "Epoch 37, Validation Loss: 0.23066365718841553\n",
            "Epoch 38, Validation Loss: 0.23158195614814758\n",
            "Epoch 39, Validation Loss: 0.23169904947280884\n",
            "Epoch 40, Validation Loss: 0.23347847163677216\n",
            "Epoch 41, Validation Loss: 0.23334823548793793\n",
            "Epoch 42, Validation Loss: 0.23483864963054657\n",
            "Epoch 43, Validation Loss: 0.23671649396419525\n",
            "Epoch 44, Validation Loss: 0.23701800405979156\n",
            "Epoch 45, Validation Loss: 0.2353157103061676\n",
            "Epoch 46, Validation Loss: 0.2348400205373764\n",
            "Epoch 47, Validation Loss: 0.23489734530448914\n",
            "Epoch 48, Validation Loss: 0.2336389720439911\n",
            "Epoch 49, Validation Loss: 0.2323906123638153\n",
            "Epoch 50, Validation Loss: 0.23168590664863586\n"
          ]
        }
      ]
    },
    {
      "cell_type": "code",
      "source": [
        "# Save the model\n",
        "torch.save(model.state_dict(), '/content/nn_model.pth')"
      ],
      "metadata": {
        "id": "aZAXKeZa1ETN"
      },
      "execution_count": 20,
      "outputs": []
    },
    {
      "cell_type": "code",
      "source": [
        "predicted_labels = torch.argmax(F.softmax(model(X_test), dim=-1), dim=-1).squeeze().long()\n",
        "true_labels = torch.argmax(Y_test.squeeze(), dim=-1).long()\n",
        "\n",
        "accuracy = accuracy_score(true_labels.numpy(), predicted_labels.numpy())\n",
        "print(f'Accuracy: {accuracy * 100:.2f}%')\n",
        "\n",
        "# Calculate test loss\n",
        "test_loss = criterion(model(X_test), F.one_hot(true_labels, num_classes=9).float())\n",
        "print(f'Test Loss: {test_loss.item()}')"
      ],
      "metadata": {
        "colab": {
          "base_uri": "https://localhost:8080/"
        },
        "id": "DtGsDTal1EPl",
        "outputId": "552f5bab-1b4d-4fc5-9bee-f89ce6a4dbd1"
      },
      "execution_count": 26,
      "outputs": [
        {
          "output_type": "stream",
          "name": "stdout",
          "text": [
            "Accuracy: 95.74%\n",
            "Test Loss: 0.2538639307022095\n"
          ]
        }
      ]
    },
    {
      "cell_type": "code",
      "source": [
        "from sklearn.metrics import confusion_matrix, classification_report\n",
        "import matplotlib.pyplot as plt\n",
        "import seaborn as sns\n",
        "\n",
        "# Calculate confusion matrix\n",
        "confusion_matrix = confusion_matrix(true_labels.numpy(), predicted_labels.numpy())\n",
        "print(\"Confusion Matrix:\")\n",
        "print(confusion_matrix)\n",
        "\n",
        "# Plot the confusion matrix\n",
        "plt.figure(figsize=(8, 6))\n",
        "sns.heatmap(confusion_matrix, annot= True, cmap=\"Purples\")\n",
        "plt.xlabel('Predicted Labels')\n",
        "plt.ylabel('True Labels')\n",
        "plt.title('Confusion Matrix')\n",
        "plt.show()"
      ],
      "metadata": {
        "colab": {
          "base_uri": "https://localhost:8080/",
          "height": 738
        },
        "id": "oIT30rPIBNqo",
        "outputId": "4482d9bd-3d56-4b4e-dc36-6faf7a3a4077"
      },
      "execution_count": 31,
      "outputs": [
        {
          "output_type": "stream",
          "name": "stdout",
          "text": [
            "Confusion Matrix:\n",
            "[[19  0  0  0  0  0  0  0  0]\n",
            " [ 0 14  0  0  0  0  0  0  0]\n",
            " [ 0  0 23  0  0  0  0  0  0]\n",
            " [ 0  0  0 17  0  0  2  1  0]\n",
            " [ 0  0  0  0 25  0  0  0  0]\n",
            " [ 0  0  0  0  0 19  1  0  0]\n",
            " [ 0  0  0  0  0  0 25  0  0]\n",
            " [ 0  0  0  0  0  0  0 21  0]\n",
            " [ 0  0  0  1  0  0  0  3 17]]\n"
          ]
        },
        {
          "output_type": "display_data",
          "data": {
            "text/plain": [
              "<Figure size 800x600 with 2 Axes>"
            ],
            "image/png": "[encoded data removed]"
          },
          "metadata": {}
        }
      ]
    }
  ]
}