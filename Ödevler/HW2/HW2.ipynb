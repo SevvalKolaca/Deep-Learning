{
  "cells": [
    {
      "cell_type": "code",
      "execution_count": null,
      "metadata": {
        "id": "Z32ROA9qrRSL"
      },
      "outputs": [],
      "source": [
        "!unzip /content/train.zip\n",
        "!unzip /content/test.zip"
      ]
    },
    {
      "cell_type": "code",
      "execution_count": null,
      "metadata": {
        "id": "z71QFJwtrvO0"
      },
      "outputs": [],
      "source": [
        "from sklearn.neighbors import KNeighborsClassifier\n",
        "from sklearn.preprocessing import LabelEncoder\n",
        "from sklearn.model_selection import train_test_split\n",
        "from sklearn.metrics import classification_report\n",
        "import cv2\n",
        "from google.colab.patches import cv2_imshow\n",
        "import numpy as np\n",
        "import os\n",
        "import pandas as pd\n",
        "from sklearn.metrics import accuracy_score, confusion_matrix\n"
      ]
    },
    {
      "cell_type": "code",
      "execution_count": null,
      "metadata": {
        "colab": {
          "base_uri": "https://localhost:8080/"
        },
        "id": "u9LxEhvA-BDJ",
        "outputId": "1e040150-cd2a-43fb-f789-84f947f84c93"
      },
      "outputs": [
        {
          "output_type": "stream",
          "name": "stdout",
          "text": [
            "0\n",
            "Motorbikes\n",
            "1\n",
            "cellphone\n",
            "2\n",
            "flamingo\n",
            "[[[   0.    0.    0. ...    0.    0.    0.]]\n",
            "\n",
            " [[   0.    0.    0. ...    0.    0.    0.]]\n",
            "\n",
            " [[   0.    0.    0. ...    0.    0.    0.]]\n",
            "\n",
            " ...\n",
            "\n",
            " [[   0. 1512. 1952. ... 1680. 1536.    0.]]\n",
            "\n",
            " [[   0.  264.  226. ...  122.   46.    0.]]\n",
            "\n",
            " [[   0.    6.   30. ...    0.    0.    0.]]]\n",
            "(294, 1, 16384)\n",
            "[[[   0.    0.    0. ...    0.    0.    0.]]\n",
            "\n",
            " [[   0.   78.   10. ...  132.  214.    0.]]\n",
            "\n",
            " [[   0.    0.    0. ...    0.    0.    0.]]\n",
            "\n",
            " ...\n",
            "\n",
            " [[   0.  480.  382. ... 7272. 3182.    0.]]\n",
            "\n",
            " [[   0.    0.    0. ...    0.    0.    0.]]\n",
            "\n",
            " [[   0. 1070. 2842. ...  286.  320.    0.]]]\n",
            "(96, 1, 16384)\n",
            "['Motorbikes', 'Motorbikes', 'Motorbikes', 'Motorbikes', 'Motorbikes', 'Motorbikes', 'Motorbikes', 'Motorbikes', 'Motorbikes', 'Motorbikes', 'Motorbikes', 'Motorbikes', 'Motorbikes', 'Motorbikes', 'Motorbikes', 'Motorbikes', 'Motorbikes', 'Motorbikes', 'Motorbikes', 'Motorbikes', 'Motorbikes', 'Motorbikes', 'Motorbikes', 'Motorbikes', 'Motorbikes', 'Motorbikes', 'Motorbikes', 'Motorbikes', 'Motorbikes', 'Motorbikes', 'Motorbikes', 'Motorbikes', 'Motorbikes', 'Motorbikes', 'Motorbikes', 'Motorbikes', 'Motorbikes', 'Motorbikes', 'Motorbikes', 'Motorbikes', 'Motorbikes', 'Motorbikes', 'Motorbikes', 'Motorbikes', 'Motorbikes', 'Motorbikes', 'Motorbikes', 'Motorbikes', 'Motorbikes', 'Motorbikes', 'Motorbikes', 'Motorbikes', 'Motorbikes', 'Motorbikes', 'Motorbikes', 'Motorbikes', 'Motorbikes', 'Motorbikes', 'Motorbikes', 'Motorbikes', 'Motorbikes', 'Motorbikes', 'Motorbikes', 'Motorbikes', 'Motorbikes', 'Motorbikes', 'Motorbikes', 'Motorbikes', 'Motorbikes', 'Motorbikes', 'Motorbikes', 'Motorbikes', 'Motorbikes', 'Motorbikes', 'Motorbikes', 'Motorbikes', 'Motorbikes', 'Motorbikes', 'Motorbikes', 'Motorbikes', 'Motorbikes', 'Motorbikes', 'Motorbikes', 'Motorbikes', 'Motorbikes', 'Motorbikes', 'Motorbikes', 'Motorbikes', 'Motorbikes', 'Motorbikes', 'Motorbikes', 'Motorbikes', 'Motorbikes', 'Motorbikes', 'Motorbikes', 'Motorbikes', 'Motorbikes', 'Motorbikes', 'Motorbikes', 'Motorbikes', 'Motorbikes', 'Motorbikes', 'Motorbikes', 'Motorbikes', 'Motorbikes', 'Motorbikes', 'Motorbikes', 'Motorbikes', 'Motorbikes', 'Motorbikes', 'Motorbikes', 'Motorbikes', 'Motorbikes', 'Motorbikes', 'Motorbikes', 'Motorbikes', 'Motorbikes', 'Motorbikes', 'Motorbikes', 'Motorbikes', 'Motorbikes', 'Motorbikes', 'Motorbikes', 'Motorbikes', 'Motorbikes', 'Motorbikes', 'Motorbikes', 'Motorbikes', 'Motorbikes', 'Motorbikes', 'Motorbikes', 'Motorbikes', 'Motorbikes', 'Motorbikes', 'Motorbikes', 'Motorbikes', 'Motorbikes', 'Motorbikes', 'Motorbikes', 'Motorbikes', 'Motorbikes', 'Motorbikes', 'Motorbikes', 'Motorbikes', 'Motorbikes', 'Motorbikes', 'Motorbikes', 'Motorbikes', 'Motorbikes', 'Motorbikes', 'Motorbikes', 'Motorbikes', 'Motorbikes', 'Motorbikes', 'Motorbikes', 'Motorbikes', 'Motorbikes', 'Motorbikes', 'Motorbikes', 'Motorbikes', 'Motorbikes', 'Motorbikes', 'Motorbikes', 'Motorbikes', 'Motorbikes', 'Motorbikes', 'Motorbikes', 'Motorbikes', 'Motorbikes', 'Motorbikes', 'Motorbikes', 'Motorbikes', 'Motorbikes', 'Motorbikes', 'Motorbikes', 'Motorbikes', 'Motorbikes', 'Motorbikes', 'Motorbikes', 'Motorbikes', 'Motorbikes', 'Motorbikes', 'Motorbikes', 'Motorbikes', 'Motorbikes', 'Motorbikes', 'Motorbikes', 'Motorbikes', 'Motorbikes', 'Motorbikes', 'Motorbikes', 'Motorbikes', 'Motorbikes', 'Motorbikes', 'cellphone', 'cellphone', 'cellphone', 'cellphone', 'cellphone', 'cellphone', 'cellphone', 'cellphone', 'cellphone', 'cellphone', 'cellphone', 'cellphone', 'cellphone', 'cellphone', 'cellphone', 'cellphone', 'cellphone', 'cellphone', 'cellphone', 'cellphone', 'cellphone', 'cellphone', 'cellphone', 'cellphone', 'cellphone', 'cellphone', 'cellphone', 'cellphone', 'cellphone', 'cellphone', 'cellphone', 'cellphone', 'cellphone', 'cellphone', 'cellphone', 'cellphone', 'cellphone', 'cellphone', 'cellphone', 'cellphone', 'cellphone', 'cellphone', 'cellphone', 'cellphone', 'cellphone', 'cellphone', 'cellphone', 'flamingo', 'flamingo', 'flamingo', 'flamingo', 'flamingo', 'flamingo', 'flamingo', 'flamingo', 'flamingo', 'flamingo', 'flamingo', 'flamingo', 'flamingo', 'flamingo', 'flamingo', 'flamingo', 'flamingo', 'flamingo', 'flamingo', 'flamingo', 'flamingo', 'flamingo', 'flamingo', 'flamingo', 'flamingo', 'flamingo', 'flamingo', 'flamingo', 'flamingo', 'flamingo', 'flamingo', 'flamingo', 'flamingo', 'flamingo', 'flamingo', 'flamingo', 'flamingo', 'flamingo', 'flamingo', 'flamingo', 'flamingo', 'flamingo', 'flamingo', 'flamingo', 'flamingo', 'flamingo', 'flamingo', 'flamingo', 'flamingo', 'flamingo', 'flamingo', 'flamingo', 'flamingo']\n"
          ]
        }
      ],
      "source": [
        "labels_train = []\n",
        "labels_test = []\n",
        "train_image_vectors = []  # Her kategori için ayrı bir liste oluştur\n",
        "test_image_vectors = []   # Her kategori için ayrı bir liste oluştur\n",
        "\n",
        "classes_name = {'Motorbikes' : 0,\n",
        "                'cellphone' : 1,\n",
        "                'flamingo' : 2}\n",
        "\n",
        "for category, label in classes_name.items():\n",
        "    print(label)\n",
        "    print(category)\n",
        "    train_category_folder = os.path.join('train', category)\n",
        "    test_category_folder = os.path.join('test', category)\n",
        "\n",
        "    train_image_paths = []\n",
        "    for filename in os.listdir(train_category_folder):\n",
        "        labels_train.append(category)\n",
        "        path = os.path.join(train_category_folder, filename)\n",
        "        train_image_paths.append(path)\n",
        "\n",
        "    test_image_paths = []\n",
        "    for filename in os.listdir(test_category_folder):\n",
        "        labels_test.append(category)\n",
        "        path = os.path.join(test_category_folder, filename)\n",
        "        test_image_paths.append(path)\n",
        "\n",
        "    for train_image_path in train_image_paths:\n",
        "        train_image = cv2.imread(train_image_path)\n",
        "        train_image = cv2.resize(train_image, (128,128))\n",
        "        train_grayscale_image = cv2.cvtColor(train_image, cv2.COLOR_BGR2GRAY)\n",
        "\n",
        "        gradient_x = cv2.Sobel(train_grayscale_image, cv2.CV_64F, 1, 0, ksize=5)\n",
        "        gradient_y = cv2.Sobel(train_grayscale_image, cv2.CV_64F, 0, 1, ksize=5)\n",
        "        gradient_magnitude = np.sqrt(gradient_x**2 + gradient_y**2)\n",
        "\n",
        "        train_vector = gradient_magnitude.flatten().astype(np.float16).reshape((1,-1))\n",
        "        train_image_vectors.append(train_vector)\n",
        "\n",
        "    for test_image_path in test_image_paths:\n",
        "        test_image = cv2.imread(test_image_path)\n",
        "        test_image = cv2.resize(test_image, (128,128))\n",
        "        test_grayscale_image = cv2.cvtColor(test_image, cv2.COLOR_BGR2GRAY)\n",
        "\n",
        "        gradient_x = cv2.Sobel(test_grayscale_image, cv2.CV_64F, 1, 0, ksize=5)\n",
        "        gradient_y = cv2.Sobel(test_grayscale_image, cv2.CV_64F, 0, 1, ksize=5)\n",
        "        gradient_magnitude = np.sqrt(gradient_x**2 + gradient_y**2)\n",
        "\n",
        "        test_vector = gradient_magnitude.flatten().astype(np.float16).reshape((1,-1))\n",
        "        test_image_vectors.append(test_vector)\n",
        "\n",
        "train_image_vectors = np.array(train_image_vectors)\n",
        "test_image_vectors = np.array(test_image_vectors)\n",
        "\n",
        "print(train_image_vectors)\n",
        "print(train_image_vectors.shape)\n",
        "\n",
        "print(test_image_vectors)\n",
        "print(test_image_vectors.shape)\n",
        "\n",
        "print(labels_train)"
      ]
    },
    {
      "cell_type": "code",
      "execution_count": null,
      "metadata": {
        "id": "TQL0AZoUrvHF"
      },
      "outputs": [],
      "source": [
        "from sklearn.metrics.pairwise import manhattan_distances, euclidean_distances\n",
        "\n",
        "def KNN(x_train, y_train, sample_test, k):  # x_train -> train verileri y_train -> sınıflar sample_test -> test verileri\n",
        "  knn = KNeighborsClassifier(n_neighbors = k) # default k = 5\n",
        "\n",
        "  knn.fit(x_train, y_train)\n",
        "\n",
        "  predicted_class = knn.predict(sample_test)\n",
        "\n",
        "  return predicted_class"
      ]
    },
    {
      "cell_type": "code",
      "source": [
        "combined_train_data = list(zip(train_image_vectors, labels_train))\n",
        "combined_test_data = list(zip(test_image_vectors, labels_test))\n",
        "\n",
        "np.random.shuffle(combined_train_data)\n",
        "np.random.shuffle(combined_test_data)\n",
        "\n",
        "train_data, train_labels = zip(*combined_train_data)\n",
        "test_data, test_labels = zip(*combined_test_data)\n",
        "\n",
        "train_data = np.array(train_data)\n",
        "test_data = np.array(test_data)\n",
        "\n",
        "train_labels = list(train_labels)\n",
        "test_labels = list(test_labels)\n",
        "\n",
        "\n",
        "print(train_data.shape)\n",
        "print(test_data.shape)\n",
        "print(train_labels)\n",
        "print(test_labels)"
      ],
      "metadata": {
        "colab": {
          "base_uri": "https://localhost:8080/"
        },
        "id": "WjJ28CC0A28S",
        "outputId": "b603fc63-a159-41ce-cc7e-376cc3a2c4f1"
      },
      "execution_count": null,
      "outputs": [
        {
          "output_type": "stream",
          "name": "stdout",
          "text": [
            "(294, 1, 16384)\n",
            "(96, 1, 16384)\n",
            "['flamingo', 'Motorbikes', 'Motorbikes', 'Motorbikes', 'flamingo', 'flamingo', 'Motorbikes', 'Motorbikes', 'cellphone', 'flamingo', 'Motorbikes', 'Motorbikes', 'cellphone', 'Motorbikes', 'Motorbikes', 'Motorbikes', 'Motorbikes', 'flamingo', 'Motorbikes', 'Motorbikes', 'Motorbikes', 'cellphone', 'Motorbikes', 'cellphone', 'Motorbikes', 'flamingo', 'Motorbikes', 'cellphone', 'flamingo', 'Motorbikes', 'Motorbikes', 'cellphone', 'Motorbikes', 'Motorbikes', 'Motorbikes', 'Motorbikes', 'Motorbikes', 'cellphone', 'cellphone', 'cellphone', 'Motorbikes', 'Motorbikes', 'Motorbikes', 'Motorbikes', 'Motorbikes', 'Motorbikes', 'flamingo', 'flamingo', 'Motorbikes', 'Motorbikes', 'Motorbikes', 'Motorbikes', 'cellphone', 'flamingo', 'flamingo', 'Motorbikes', 'Motorbikes', 'Motorbikes', 'Motorbikes', 'Motorbikes', 'Motorbikes', 'flamingo', 'Motorbikes', 'cellphone', 'flamingo', 'Motorbikes', 'Motorbikes', 'cellphone', 'flamingo', 'Motorbikes', 'Motorbikes', 'flamingo', 'cellphone', 'flamingo', 'cellphone', 'Motorbikes', 'Motorbikes', 'Motorbikes', 'Motorbikes', 'Motorbikes', 'Motorbikes', 'Motorbikes', 'Motorbikes', 'Motorbikes', 'Motorbikes', 'Motorbikes', 'Motorbikes', 'Motorbikes', 'Motorbikes', 'Motorbikes', 'Motorbikes', 'flamingo', 'Motorbikes', 'cellphone', 'Motorbikes', 'flamingo', 'Motorbikes', 'Motorbikes', 'Motorbikes', 'flamingo', 'cellphone', 'Motorbikes', 'Motorbikes', 'Motorbikes', 'Motorbikes', 'Motorbikes', 'Motorbikes', 'Motorbikes', 'flamingo', 'Motorbikes', 'cellphone', 'Motorbikes', 'Motorbikes', 'Motorbikes', 'Motorbikes', 'cellphone', 'flamingo', 'Motorbikes', 'Motorbikes', 'flamingo', 'flamingo', 'cellphone', 'Motorbikes', 'cellphone', 'Motorbikes', 'Motorbikes', 'Motorbikes', 'Motorbikes', 'Motorbikes', 'flamingo', 'flamingo', 'Motorbikes', 'Motorbikes', 'flamingo', 'Motorbikes', 'cellphone', 'flamingo', 'Motorbikes', 'Motorbikes', 'Motorbikes', 'cellphone', 'cellphone', 'Motorbikes', 'Motorbikes', 'Motorbikes', 'Motorbikes', 'Motorbikes', 'Motorbikes', 'Motorbikes', 'Motorbikes', 'flamingo', 'Motorbikes', 'cellphone', 'Motorbikes', 'cellphone', 'cellphone', 'Motorbikes', 'Motorbikes', 'flamingo', 'Motorbikes', 'Motorbikes', 'Motorbikes', 'cellphone', 'Motorbikes', 'flamingo', 'Motorbikes', 'Motorbikes', 'Motorbikes', 'Motorbikes', 'cellphone', 'Motorbikes', 'flamingo', 'Motorbikes', 'Motorbikes', 'Motorbikes', 'Motorbikes', 'Motorbikes', 'flamingo', 'Motorbikes', 'cellphone', 'flamingo', 'cellphone', 'Motorbikes', 'Motorbikes', 'flamingo', 'cellphone', 'Motorbikes', 'Motorbikes', 'Motorbikes', 'flamingo', 'Motorbikes', 'cellphone', 'cellphone', 'Motorbikes', 'Motorbikes', 'flamingo', 'cellphone', 'Motorbikes', 'Motorbikes', 'Motorbikes', 'Motorbikes', 'Motorbikes', 'Motorbikes', 'Motorbikes', 'flamingo', 'flamingo', 'Motorbikes', 'Motorbikes', 'Motorbikes', 'flamingo', 'Motorbikes', 'Motorbikes', 'Motorbikes', 'flamingo', 'Motorbikes', 'Motorbikes', 'Motorbikes', 'Motorbikes', 'Motorbikes', 'Motorbikes', 'Motorbikes', 'Motorbikes', 'Motorbikes', 'Motorbikes', 'cellphone', 'cellphone', 'Motorbikes', 'flamingo', 'Motorbikes', 'flamingo', 'Motorbikes', 'flamingo', 'flamingo', 'cellphone', 'Motorbikes', 'Motorbikes', 'Motorbikes', 'Motorbikes', 'Motorbikes', 'cellphone', 'cellphone', 'Motorbikes', 'Motorbikes', 'Motorbikes', 'flamingo', 'Motorbikes', 'Motorbikes', 'cellphone', 'Motorbikes', 'cellphone', 'Motorbikes', 'Motorbikes', 'cellphone', 'Motorbikes', 'Motorbikes', 'Motorbikes', 'Motorbikes', 'Motorbikes', 'Motorbikes', 'flamingo', 'Motorbikes', 'Motorbikes', 'flamingo', 'cellphone', 'Motorbikes', 'cellphone', 'Motorbikes', 'cellphone', 'Motorbikes', 'cellphone', 'Motorbikes', 'flamingo', 'Motorbikes', 'flamingo', 'Motorbikes', 'Motorbikes', 'Motorbikes', 'flamingo', 'flamingo', 'Motorbikes', 'cellphone', 'Motorbikes', 'Motorbikes', 'Motorbikes', 'Motorbikes', 'Motorbikes', 'flamingo', 'flamingo', 'Motorbikes', 'Motorbikes', 'Motorbikes', 'Motorbikes', 'Motorbikes', 'Motorbikes']\n",
            "['Motorbikes', 'Motorbikes', 'Motorbikes', 'Motorbikes', 'Motorbikes', 'flamingo', 'flamingo', 'Motorbikes', 'Motorbikes', 'cellphone', 'flamingo', 'Motorbikes', 'Motorbikes', 'Motorbikes', 'cellphone', 'Motorbikes', 'Motorbikes', 'Motorbikes', 'Motorbikes', 'Motorbikes', 'Motorbikes', 'Motorbikes', 'Motorbikes', 'Motorbikes', 'Motorbikes', 'Motorbikes', 'Motorbikes', 'Motorbikes', 'Motorbikes', 'Motorbikes', 'Motorbikes', 'Motorbikes', 'Motorbikes', 'Motorbikes', 'Motorbikes', 'Motorbikes', 'Motorbikes', 'cellphone', 'Motorbikes', 'Motorbikes', 'Motorbikes', 'flamingo', 'Motorbikes', 'Motorbikes', 'Motorbikes', 'cellphone', 'Motorbikes', 'flamingo', 'Motorbikes', 'Motorbikes', 'Motorbikes', 'Motorbikes', 'Motorbikes', 'Motorbikes', 'Motorbikes', 'Motorbikes', 'Motorbikes', 'Motorbikes', 'cellphone', 'Motorbikes', 'Motorbikes', 'Motorbikes', 'Motorbikes', 'flamingo', 'Motorbikes', 'flamingo', 'Motorbikes', 'Motorbikes', 'cellphone', 'Motorbikes', 'Motorbikes', 'Motorbikes', 'Motorbikes', 'Motorbikes', 'Motorbikes', 'Motorbikes', 'Motorbikes', 'Motorbikes', 'Motorbikes', 'Motorbikes', 'Motorbikes', 'Motorbikes', 'Motorbikes', 'Motorbikes', 'Motorbikes', 'Motorbikes', 'Motorbikes', 'Motorbikes', 'Motorbikes', 'Motorbikes', 'Motorbikes', 'Motorbikes', 'Motorbikes', 'Motorbikes', 'cellphone', 'flamingo']\n"
          ]
        }
      ]
    },
    {
      "cell_type": "code",
      "execution_count": null,
      "metadata": {
        "colab": {
          "base_uri": "https://localhost:8080/"
        },
        "id": "zdipw0ib-DBC",
        "outputId": "d50f71cd-17d6-4615-ad0c-24a973055b19"
      },
      "outputs": [
        {
          "output_type": "stream",
          "name": "stdout",
          "text": [
            "(294, 16384)\n",
            "(294, 1)\n",
            "<class 'numpy.ndarray'>\n",
            "(96, 16384)\n"
          ]
        }
      ],
      "source": [
        "x_train = train_data[:,0,:]\n",
        "y_train = np.array(train_labels).reshape(-1,1)\n",
        "sample_test = test_data[:,0,:]\n",
        "\n",
        "print(x_train.shape)\n",
        "print(y_train.shape)\n",
        "print(type(y_train))\n",
        "print(sample_test.shape)\n"
      ]
    },
    {
      "cell_type": "code",
      "execution_count": null,
      "metadata": {
        "id": "8yrsAAr7-A_u",
        "colab": {
          "base_uri": "https://localhost:8080/"
        },
        "outputId": "63a97678-c6b2-4ad7-a540-6610e832b551"
      },
      "outputs": [
        {
          "output_type": "stream",
          "name": "stdout",
          "text": [
            "[[61  4 16]\n",
            " [ 5  1  1]\n",
            " [ 7  0  1]]\n",
            "0.65625\n"
          ]
        }
      ],
      "source": [
        "# Euclidean\n",
        "predictions = KNN(x_train, y_train, sample_test, k = 5)\n",
        "accuracy = accuracy_score(labels_test, predictions)\n",
        "conf = confusion_matrix(labels_test, predictions)\n",
        "\n",
        "print(conf)\n",
        "print(accuracy)"
      ]
    },
    {
      "cell_type": "code",
      "source": [
        "# manhattan\n",
        "predictions = KNN(x_train, y_train, sample_test, k = 5)\n",
        "accuracy = accuracy_score(labels_test, predictions)\n",
        "conf = confusion_matrix(labels_test, predictions)\n",
        "\n",
        "print(conf)\n",
        "print(accuracy)"
      ],
      "metadata": {
        "colab": {
          "base_uri": "https://localhost:8080/"
        },
        "id": "o4sMr3AoINwO",
        "outputId": "37d40ddb-3578-42ae-c2d8-fd287268ba33"
      },
      "execution_count": null,
      "outputs": [
        {
          "output_type": "stream",
          "name": "stderr",
          "text": [
            "/usr/local/lib/python3.10/dist-packages/sklearn/neighbors/_classification.py:215: DataConversionWarning: A column-vector y was passed when a 1d array was expected. Please change the shape of y to (n_samples,), for example using ravel().\n",
            "  return self._fit(X, y)\n"
          ]
        },
        {
          "output_type": "stream",
          "name": "stdout",
          "text": [
            "[[55  1 25]\n",
            " [ 5  1  1]\n",
            " [ 7  0  1]]\n",
            "0.59375\n"
          ]
        }
      ]
    },
    {
      "cell_type": "code",
      "source": [
        "# cosine\n",
        "predictions = KNN(x_train, y_train, sample_test, k = 5)\n",
        "accuracy = accuracy_score(labels_test, predictions)\n",
        "conf = confusion_matrix(labels_test, predictions)\n",
        "\n",
        "print(conf)\n",
        "print(accuracy)"
      ],
      "metadata": {
        "colab": {
          "base_uri": "https://localhost:8080/"
        },
        "id": "RcuzWt9gKJNr",
        "outputId": "dcb7fd3b-ca0a-486f-ae68-45e6dcfb8564"
      },
      "execution_count": null,
      "outputs": [
        {
          "output_type": "stream",
          "name": "stdout",
          "text": [
            "[[71  4  6]\n",
            " [ 5  2  0]\n",
            " [ 7  0  1]]\n",
            "0.7708333333333334\n"
          ]
        },
        {
          "output_type": "stream",
          "name": "stderr",
          "text": [
            "/usr/local/lib/python3.10/dist-packages/sklearn/neighbors/_classification.py:215: DataConversionWarning: A column-vector y was passed when a 1d array was expected. Please change the shape of y to (n_samples,), for example using ravel().\n",
            "  return self._fit(X, y)\n"
          ]
        }
      ]
    },
    {
      "cell_type": "code",
      "source": [
        "# default\n",
        "\n",
        "predictions = KNN(x_train, y_train, sample_test, k = 5)\n",
        "accuracy = accuracy_score(labels_test, predictions)\n",
        "conf = confusion_matrix(labels_test, predictions)\n",
        "\n",
        "print(conf)\n",
        "print(accuracy)"
      ],
      "metadata": {
        "colab": {
          "base_uri": "https://localhost:8080/"
        },
        "id": "dF2UASfXOTGt",
        "outputId": "6012500b-705e-4b53-fd57-db08dd6ba1f2"
      },
      "execution_count": null,
      "outputs": [
        {
          "output_type": "stream",
          "name": "stdout",
          "text": [
            "[[61  4 16]\n",
            " [ 5  1  1]\n",
            " [ 7  0  1]]\n",
            "0.65625\n"
          ]
        },
        {
          "output_type": "stream",
          "name": "stderr",
          "text": [
            "/usr/local/lib/python3.10/dist-packages/sklearn/neighbors/_classification.py:215: DataConversionWarning: A column-vector y was passed when a 1d array was expected. Please change the shape of y to (n_samples,), for example using ravel().\n",
            "  return self._fit(X, y)\n"
          ]
        }
      ]
    }
  ],
  "metadata": {
    "colab": {
      "provenance": []
    },
    "kernelspec": {
      "display_name": "Python 3",
      "name": "python3"
    },
    "language_info": {
      "name": "python"
    }
  },
  "nbformat": 4,
  "nbformat_minor": 0
}