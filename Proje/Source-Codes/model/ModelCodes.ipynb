{
 "metadata": {
  "kernelspec": {
   "language": "python",
   "display_name": "Python 3",
   "name": "python3"
  },
  "language_info": {
   "name": "python",
   "version": "3.10.12",
   "mimetype": "text/x-python",
   "codemirror_mode": {
    "name": "ipython",
    "version": 3
   },
   "pygments_lexer": "ipython3",
   "nbconvert_exporter": "python",
   "file_extension": ".py"
  },
  "kaggle": {
   "accelerator": "gpu",
   "dataSources": [
    {
     "sourceId": 840806,
     "sourceType": "datasetVersion",
     "datasetId": 59760
    }
   ],
   "dockerImageVersionId": 30627,
   "isInternetEnabled": true,
   "language": "python",
   "sourceType": "notebook",
   "isGpuEnabled": true
  }
 },
 "nbformat_minor": 4,
 "nbformat": 4,
 "cells": [
  {
   "cell_type": "code",
   "source": [
    "import torch\n",
    "from torch import nn\n",
    "from math import ceil\n",
    "import os\n",
    "import cv2\n",
    "import numpy as np\n",
    "import time"
   ],
   "metadata": {
    "_uuid": "901a1863-e7a5-41ce-a1df-b2caf598f940",
    "_cell_guid": "9f4a1f72-5e35-486e-beb8-cb9d710641d3",
    "collapsed": false,
    "execution": {
     "iopub.status.busy": "2024-01-09T17:12:55.110872Z",
     "iopub.execute_input": "2024-01-09T17:12:55.111134Z",
     "iopub.status.idle": "2024-01-09T17:12:58.624905Z",
     "shell.execute_reply.started": "2024-01-09T17:12:55.111110Z",
     "shell.execute_reply": "2024-01-09T17:12:58.620985Z"
    },
    "trusted": true
   },
   "execution_count": 1,
   "outputs": []
  },
  {
   "cell_type": "code",
   "source": [
    "class ConvBnAct(nn.Module):\n",
    "    \n",
    "    def __init__(self, n_in, n_out, kernel_size = 3, stride = 1, \n",
    "                 padding = 0, groups = 1, bn = True, act = True,\n",
    "                 bias = False\n",
    "                ):\n",
    "        \n",
    "        super(ConvBnAct, self).__init__()\n",
    "        \n",
    "        self.conv = nn.Conv2d(n_in, n_out, kernel_size = kernel_size,\n",
    "                              stride = stride, padding = padding,\n",
    "                              groups = groups, bias = bias\n",
    "                             )\n",
    "        self.batch_norm = nn.BatchNorm2d(n_out) if bn else nn.Identity()\n",
    "        self.activation = nn.SiLU() if act else nn.Identity()\n",
    "        \n",
    "    def forward(self, x):\n",
    "        \n",
    "        x = self.conv(x)\n",
    "        x = self.batch_norm(x)\n",
    "        x = self.activation(x)\n",
    "        \n",
    "        return x"
   ],
   "metadata": {
    "_uuid": "aac6a217-5f65-460d-9f4c-38482a2a2057",
    "_cell_guid": "81e5b2f5-8cab-420e-a4e9-2958a7ab31c5",
    "collapsed": false,
    "execution": {
     "iopub.status.busy": "2024-01-09T17:13:11.592538Z",
     "iopub.execute_input": "2024-01-09T17:13:11.593045Z",
     "iopub.status.idle": "2024-01-09T17:13:11.601047Z",
     "shell.execute_reply.started": "2024-01-09T17:13:11.593014Z",
     "shell.execute_reply": "2024-01-09T17:13:11.600034Z"
    },
    "trusted": true
   },
   "execution_count": 2,
   "outputs": []
  },
  {
   "cell_type": "code",
   "source": [
    "class SqueezeExcitation(nn.Module):\n",
    "    \n",
    "    def __init__(self, n_in, reduced_dim):\n",
    "        super(SqueezeExcitation, self).__init__()\n",
    "        \n",
    "        \n",
    "        self.se = nn.Sequential(\n",
    "            nn.AdaptiveAvgPool2d(1),\n",
    "            nn.Conv2d(n_in, reduced_dim, kernel_size=1),\n",
    "            nn.SiLU(),\n",
    "            nn.Conv2d(reduced_dim, n_in, kernel_size=1),\n",
    "            nn.Sigmoid()\n",
    "        )\n",
    "       \n",
    "    def forward(self, x):\n",
    "        \n",
    "        y = self.se(x)\n",
    "        \n",
    "        return x * y"
   ],
   "metadata": {
    "_uuid": "5a74ec42-aac1-4d83-977f-7c474971b443",
    "_cell_guid": "c6f966d6-c073-495a-85e8-d0c84e1b395c",
    "collapsed": false,
    "execution": {
     "iopub.status.busy": "2024-01-09T17:13:15.495876Z",
     "iopub.execute_input": "2024-01-09T17:13:15.496573Z",
     "iopub.status.idle": "2024-01-09T17:13:15.502492Z",
     "shell.execute_reply.started": "2024-01-09T17:13:15.496520Z",
     "shell.execute_reply": "2024-01-09T17:13:15.501599Z"
    },
    "trusted": true
   },
   "execution_count": 3,
   "outputs": []
  },
  {
   "cell_type": "code",
   "source": [
    "class StochasticDepth(nn.Module):\n",
    "    \n",
    "    def __init__(self, survival_prob = 0.8):\n",
    "        super(StochasticDepth, self).__init__()\n",
    "        \n",
    "        self.p =  survival_prob\n",
    "        \n",
    "    def forward(self, x):\n",
    "        \n",
    "        if not self.training:\n",
    "            return x\n",
    "        \n",
    "        binary_tensor = torch.rand(x.shape[0], 1, 1, 1, device=x.device) < self.p\n",
    "        \n",
    "        return torch.div(x, self.p) * binary_tensor"
   ],
   "metadata": {
    "_uuid": "53817c4f-a419-42fa-b8b0-783df4491523",
    "_cell_guid": "37977625-81e9-4076-a3c8-6a72830b7649",
    "collapsed": false,
    "execution": {
     "iopub.status.busy": "2024-01-09T17:13:16.016091Z",
     "iopub.execute_input": "2024-01-09T17:13:16.017057Z",
     "iopub.status.idle": "2024-01-09T17:13:16.023757Z",
     "shell.execute_reply.started": "2024-01-09T17:13:16.017004Z",
     "shell.execute_reply": "2024-01-09T17:13:16.022735Z"
    },
    "trusted": true
   },
   "execution_count": 4,
   "outputs": []
  },
  {
   "cell_type": "code",
   "source": [
    "class MBConvN(nn.Module):\n",
    "    \n",
    "    def __init__(self, n_in, n_out, kernel_size = 3, \n",
    "                 stride = 1, expansion_factor = 6,\n",
    "                 reduction = 4, # Squeeze and Excitation Block\n",
    "                 survival_prob = 0.8 # Stochastic Depth\n",
    "                ):\n",
    "        \n",
    "        super(MBConvN, self).__init__()\n",
    "        \n",
    "        self.skip_connection = (stride == 1 and n_in == n_out) \n",
    "        intermediate_channels = int(n_in * expansion_factor)\n",
    "        padding = (kernel_size - 1)//2\n",
    "        reduced_dim = int(n_in//reduction)\n",
    "        \n",
    "        self.expand = nn.Identity() if (expansion_factor == 1) else ConvBnAct(n_in, intermediate_channels, kernel_size = 1)\n",
    "        self.depthwise_conv = ConvBnAct(intermediate_channels, intermediate_channels,\n",
    "                                        kernel_size = kernel_size, stride = stride, \n",
    "                                        padding = padding, groups = intermediate_channels\n",
    "                                       )\n",
    "        self.se = SqueezeExcitation(intermediate_channels, reduced_dim = reduced_dim)\n",
    "        self.pointwise_conv = ConvBnAct(intermediate_channels, n_out, \n",
    "                                        kernel_size = 1, act = False\n",
    "                                       )\n",
    "        self.drop_layers = StochasticDepth(survival_prob = survival_prob)\n",
    "        \n",
    "    def forward(self, x):\n",
    "        \n",
    "        residual = x\n",
    "        \n",
    "        x = self.expand(x)\n",
    "        x = self.depthwise_conv(x)\n",
    "        x = self.se(x)\n",
    "        x = self.pointwise_conv(x)\n",
    "        \n",
    "        if self.skip_connection:\n",
    "            x = self.drop_layers(x)\n",
    "            x += residual\n",
    "        \n",
    "        return x"
   ],
   "metadata": {
    "_uuid": "3cdf8494-ca16-4ed3-90d6-bb8912908da8",
    "_cell_guid": "d6201b88-97ff-481b-a266-2a7fbbc3be41",
    "collapsed": false,
    "execution": {
     "iopub.status.busy": "2024-01-09T17:13:16.461227Z",
     "iopub.execute_input": "2024-01-09T17:13:16.462084Z",
     "iopub.status.idle": "2024-01-09T17:13:16.471359Z",
     "shell.execute_reply.started": "2024-01-09T17:13:16.462051Z",
     "shell.execute_reply": "2024-01-09T17:13:16.470426Z"
    },
    "trusted": true
   },
   "execution_count": 5,
   "outputs": []
  },
  {
   "cell_type": "code",
   "source": [
    "class EfficientNet(nn.Module):\n",
    "    def __init__(self, width_mult = 1, depth_mult = 1, \n",
    "                 dropout_rate = 0.2, num_classes = 1000):\n",
    "        super(EfficientNet, self).__init__()\n",
    "        \n",
    "        last_channel = ceil(1280 * width_mult)\n",
    "        self.features = self._feature_extractor(width_mult, depth_mult, last_channel)\n",
    "        self.avgpool = nn.AdaptiveAvgPool2d(1)\n",
    "        self.classifier = nn.Sequential(\n",
    "            nn.Dropout(dropout_rate),\n",
    "            nn.Linear(last_channel, num_classes)\n",
    "        )\n",
    "        \n",
    "    def forward(self, x):\n",
    "        \n",
    "        x = self.features(x)\n",
    "        x = self.avgpool(x)\n",
    "        x = self.classifier(x.view(x.shape[0], -1))\n",
    "        \n",
    "        return x\n",
    "    \n",
    "        \n",
    "    def _feature_extractor(self, width_mult, depth_mult, last_channel):\n",
    "        \n",
    "        channels = 4*ceil(int(32*width_mult) / 4)\n",
    "        layers = [ConvBnAct(3, channels, kernel_size = 3, stride = 2, padding = 1)]\n",
    "        in_channels = channels\n",
    "        \n",
    "        kernels = [3, 3, 5, 3, 5, 5, 3]\n",
    "        expansions = [1, 6, 6, 6, 6, 6, 6]\n",
    "        num_channels = [16, 24, 40, 80, 112, 192, 320]\n",
    "        num_layers = [1, 2, 2, 3, 3, 4, 1]\n",
    "        strides =[1, 2, 2, 2, 1, 2, 1]\n",
    "        \n",
    "        # Scale channels and num_layers according to width and depth multipliers.\n",
    "        scaled_num_channels = [4*ceil(int(c*width_mult) / 4) for c in num_channels]\n",
    "        scaled_num_layers = [int(d * depth_mult) for d in num_layers]\n",
    "\n",
    "        \n",
    "        for i in range(len(scaled_num_channels)):\n",
    "             \n",
    "            layers += [MBConvN(in_channels if repeat==0 else scaled_num_channels[i], \n",
    "                               scaled_num_channels[i],\n",
    "                               kernel_size = kernels[i],\n",
    "                               stride = strides[i] if repeat==0 else 1, \n",
    "                               expansion_factor = expansions[i]\n",
    "                              )\n",
    "                       for repeat in range(scaled_num_layers[i])\n",
    "                      ]\n",
    "            in_channels = scaled_num_channels[i]\n",
    "        \n",
    "        layers.append(ConvBnAct(in_channels, last_channel, kernel_size = 1, stride = 1, padding = 0))\n",
    "    \n",
    "        return nn.Sequential(*layers)"
   ],
   "metadata": {
    "_uuid": "6bc7b489-971a-4446-8b8a-12aaef5e1867",
    "_cell_guid": "90ddd34f-19d1-4ed9-90a0-0879e55ba152",
    "collapsed": false,
    "execution": {
     "iopub.status.busy": "2024-01-09T17:13:16.861414Z",
     "iopub.execute_input": "2024-01-09T17:13:16.862272Z",
     "iopub.status.idle": "2024-01-09T17:13:16.875945Z",
     "shell.execute_reply.started": "2024-01-09T17:13:16.862236Z",
     "shell.execute_reply": "2024-01-09T17:13:16.874989Z"
    },
    "trusted": true
   },
   "execution_count": 6,
   "outputs": []
  },
  {
   "cell_type": "code",
   "source": [
    "X, y = [], []"
   ],
   "metadata": {
    "_uuid": "2b51fe53-b8ab-4357-af41-1767d344c3e1",
    "_cell_guid": "97f5e001-552c-40df-9d4f-2a961fbc0db7",
    "collapsed": false,
    "execution": {
     "iopub.status.busy": "2024-01-09T17:14:06.557422Z",
     "iopub.execute_input": "2024-01-09T17:14:06.557823Z",
     "iopub.status.idle": "2024-01-09T17:14:06.563344Z",
     "shell.execute_reply.started": "2024-01-09T17:14:06.557791Z",
     "shell.execute_reply": "2024-01-09T17:14:06.562309Z"
    },
    "trusted": true
   },
   "execution_count": 10,
   "outputs": []
  },
  {
   "cell_type": "code",
   "source": [
    "invalid = ['cane', 'cavallo', 'ragno', 'farfalla', 'scoiattolo']\n",
    "count = 0\n",
    "for dirname, _, filenames in os.walk('/kaggle/input/animals10/raw-img'):\n",
    "    for filename in filenames:\n",
    "        fullPath = os.path.join(dirname, filename)\n",
    "        label = fullPath.split('/')[-2]\n",
    "        if label in invalid:\n",
    "            continue\n",
    "        image = cv2.imread(fullPath)\n",
    "        image = cv2.cvtColor(image, cv2.COLOR_BGR2RGB)\n",
    "        image = cv2.resize(image, (224, 224))\n",
    "        X.append(image)\n",
    "        y.append(label)\n",
    "        if not count % 1000 and count != 0:\n",
    "            print(count)\n",
    "        count += 1"
   ],
   "metadata": {
    "_uuid": "3569d48b-fb9b-40f1-b40f-a3ade6059aa3",
    "_cell_guid": "94fa16a0-c8bd-47c4-b4ef-9e8fd186c406",
    "collapsed": false,
    "execution": {
     "iopub.status.busy": "2024-01-09T17:14:35.640574Z",
     "iopub.execute_input": "2024-01-09T17:14:35.640933Z",
     "iopub.status.idle": "2024-01-09T17:16:04.411774Z",
     "shell.execute_reply.started": "2024-01-09T17:14:35.640905Z",
     "shell.execute_reply": "2024-01-09T17:16:04.410895Z"
    },
    "trusted": true
   },
   "execution_count": 11,
   "outputs": [
    {
     "name": "stdout",
     "text": "1000\n2000\n",
     "output_type": "stream"
    },
    {
     "name": "stderr",
     "text": "libpng warning: iCCP: known incorrect sRGB profile\n",
     "output_type": "stream"
    },
    {
     "name": "stdout",
     "text": "3000\n4000\n5000\n6000\n7000\n8000\n9000\n",
     "output_type": "stream"
    }
   ]
  },
  {
   "cell_type": "code",
   "source": [
    "from sklearn.preprocessing import LabelEncoder\n",
    "labelEncoder = LabelEncoder()\n",
    "y = labelEncoder.fit_transform(y)"
   ],
   "metadata": {
    "_uuid": "563627c3-e09d-4cbb-ba6a-060d7a034106",
    "_cell_guid": "0ca280cd-eb4c-472f-96b3-a9543b570625",
    "collapsed": false,
    "execution": {
     "iopub.status.busy": "2024-01-09T17:16:13.580205Z",
     "iopub.execute_input": "2024-01-09T17:16:13.581084Z",
     "iopub.status.idle": "2024-01-09T17:16:13.966443Z",
     "shell.execute_reply.started": "2024-01-09T17:16:13.581043Z",
     "shell.execute_reply": "2024-01-09T17:16:13.965492Z"
    },
    "trusted": true
   },
   "execution_count": 12,
   "outputs": [
    {
     "name": "stderr",
     "text": "/opt/conda/lib/python3.10/site-packages/scipy/__init__.py:146: UserWarning: A NumPy version >=1.16.5 and <1.23.0 is required for this version of SciPy (detected version 1.24.3\n  warnings.warn(f\"A NumPy version >={np_minversion} and <{np_maxversion}\"\n",
     "output_type": "stream"
    }
   ]
  },
  {
   "cell_type": "code",
   "source": [
    "X_array = np.array(X).astype('float32').transpose(0, 3, 1, 2)  # Convert list of images to numpy array\n",
    "X_array /= 255.0  # Normalize the images"
   ],
   "metadata": {
    "_uuid": "fc82dd04-bf52-4de7-8732-e9896d102893",
    "_cell_guid": "edbbd0bd-02a7-4b1b-b08d-d2dc1032ce4b",
    "collapsed": false,
    "execution": {
     "iopub.status.busy": "2024-01-09T17:16:16.807716Z",
     "iopub.execute_input": "2024-01-09T17:16:16.808071Z",
     "iopub.status.idle": "2024-01-09T17:16:19.182132Z",
     "shell.execute_reply.started": "2024-01-09T17:16:16.808043Z",
     "shell.execute_reply": "2024-01-09T17:16:19.181329Z"
    },
    "trusted": true
   },
   "execution_count": 13,
   "outputs": []
  },
  {
   "cell_type": "code",
   "source": [
    "from sklearn.model_selection import train_test_split\n",
    "import torch\n",
    "from torch.utils.data import DataLoader, TensorDataset\n",
    "\n",
    "X_train_val, X_test, y_train_val, y_test = train_test_split(X_array, y, test_size=0.2, random_state=120)\n",
    "X_train, X_val, y_train, y_val = train_test_split(X_train_val, y_train_val, test_size=0.25, random_state=120)"
   ],
   "metadata": {
    "_uuid": "c53d6e7e-b50c-427a-bc44-727de142483c",
    "_cell_guid": "8f0ff1e1-7733-4b7e-b347-8df7476afe26",
    "collapsed": false,
    "execution": {
     "iopub.status.busy": "2024-01-09T17:16:20.872038Z",
     "iopub.execute_input": "2024-01-09T17:16:20.872794Z",
     "iopub.status.idle": "2024-01-09T17:16:23.974913Z",
     "shell.execute_reply.started": "2024-01-09T17:16:20.872762Z",
     "shell.execute_reply": "2024-01-09T17:16:23.974013Z"
    },
    "trusted": true
   },
   "execution_count": 14,
   "outputs": []
  },
  {
   "cell_type": "code",
   "source": [
    "train_data = TensorDataset(torch.tensor(X_train, dtype=torch.float32), torch.tensor(y_train, dtype=torch.long))\n",
    "val_data = TensorDataset(torch.tensor(X_val, dtype=torch.float32), torch.tensor(y_val, dtype=torch.long))\n",
    "test_data = TensorDataset(torch.tensor(X_test, dtype=torch.float32), torch.tensor(y_test, dtype=torch.long))\n",
    "\n",
    "train_loader = DataLoader(train_data, batch_size=32, shuffle=True, num_workers=4)\n",
    "val_loader = DataLoader(val_data, batch_size=32, shuffle=False, num_workers=4)\n",
    "test_loader = DataLoader(test_data, batch_size=32, shuffle=False, num_workers=4)"
   ],
   "metadata": {
    "_uuid": "88585d09-b80a-4f85-ac7f-908c552fbf8a",
    "_cell_guid": "369d69ba-8154-4fc8-972b-1a14ae0a88f9",
    "collapsed": false,
    "execution": {
     "iopub.status.busy": "2024-01-09T17:16:23.976313Z",
     "iopub.execute_input": "2024-01-09T17:16:23.976620Z",
     "iopub.status.idle": "2024-01-09T17:16:25.954061Z",
     "shell.execute_reply.started": "2024-01-09T17:16:23.976594Z",
     "shell.execute_reply": "2024-01-09T17:16:25.953227Z"
    },
    "trusted": true
   },
   "execution_count": 15,
   "outputs": []
  },
  {
   "cell_type": "code",
   "source": [
    "widthMult, depthMult, dropoutRate, numClasses = 1.7, 1.6, 0.9, 5\n",
    "\n",
    "model = EfficientNet(widthMult, depthMult, dropoutRate, numClasses)\n",
    "criterion = nn.CrossEntropyLoss()\n",
    "optimizer = torch.optim.Adam(model.parameters(), lr=0.001)\n",
    "\n",
    "device = torch.device(\"cuda\" if torch.cuda.is_available() else \"cpu\")\n",
    "model.to(device);"
   ],
   "metadata": {
    "_uuid": "5619cd4a-8d31-4ac0-babb-bbd9a52e0600",
    "_cell_guid": "bd5650aa-f5b9-4367-b6ea-313a9e884923",
    "collapsed": false,
    "execution": {
     "iopub.status.busy": "2024-01-09T17:17:34.170252Z",
     "iopub.execute_input": "2024-01-09T17:17:34.170787Z",
     "iopub.status.idle": "2024-01-09T17:17:34.369119Z",
     "shell.execute_reply.started": "2024-01-09T17:17:34.170738Z",
     "shell.execute_reply": "2024-01-09T17:17:34.368105Z"
    },
    "trusted": true
   },
   "execution_count": 19,
   "outputs": []
  },
  {
   "cell_type": "code",
   "source": [
    "num_epochs = 1200\n",
    "\n",
    "for epoch in range(num_epochs):\n",
    "    start_time = time.time()\n",
    "\n",
    "    model.train()\n",
    "    total_loss = 0\n",
    "    for inputs, labels in train_loader:\n",
    "        inputs, labels = inputs.to(device), labels.to(device)\n",
    "\n",
    "        # Forward pass\n",
    "        outputs = model(inputs)\n",
    "        loss = criterion(outputs, labels)\n",
    "        total_loss += loss.item()\n",
    "\n",
    "        # Backward and optimize\n",
    "        optimizer.zero_grad()\n",
    "        loss.backward()\n",
    "        optimizer.step()\n",
    "\n",
    "    end_time = time.time()\n",
    "    epoch_duration = end_time - start_time\n",
    "    average_loss = total_loss / len(train_loader)\n",
    "print(\"Training complete\")"
   ],
   "metadata": {
    "_uuid": "a6224b8a-ff7e-4014-bcb6-45b0b1d5b55f",
    "_cell_guid": "c3487225-bb6c-4e9f-ac8a-91f07f6e9042",
    "collapsed": false,
    "execution": {
     "iopub.status.busy": "2024-01-09T17:18:07.960628Z",
     "iopub.execute_input": "2024-01-09T17:18:07.961467Z",
     "iopub.status.idle": "2024-01-09T17:18:57.237120Z",
     "shell.execute_reply.started": "2024-01-09T17:18:07.961426Z",
     "shell.execute_reply": "2024-01-09T17:18:57.235926Z"
    },
    "trusted": true
   },
   "execution_count": 21,
   "outputs": [
    {
     "name": "stdout",
     "text": "Training complete\n",
     "output_type": "stream"
    }
   ]
  },
  {
   "cell_type": "code",
   "source": [
    "model.eval()  # Set the model to evaluation mode\n",
    "correct = 0\n",
    "total = 0\n",
    "\n",
    "with torch.no_grad():\n",
    "    for inputs, labels in test_loader:\n",
    "        inputs, labels = inputs.to(device), labels.to(device)\n",
    "        outputs = model(inputs)\n",
    "        _, predicted = torch.max(outputs.data, 1)\n",
    "        total += labels.size(0)\n",
    "        correct += (predicted == labels).sum().item()\n",
    "\n",
    "print(f'Accuracy of the model on the test images: {100 * correct / total}%')"
   ],
   "metadata": {
    "_uuid": "8abf689e-4984-4040-bb2b-5036d901555e",
    "_cell_guid": "eab5ebea-a014-4147-a7a6-c6b43b46b6a9",
    "collapsed": false,
    "execution": {
     "iopub.status.busy": "2024-01-09T17:20:00.140387Z",
     "iopub.execute_input": "2024-01-09T17:20:00.140780Z",
     "iopub.status.idle": "2024-01-09T17:20:00.146615Z",
     "shell.execute_reply.started": "2024-01-09T17:20:00.140745Z",
     "shell.execute_reply": "2024-01-09T17:20:00.145497Z"
    },
    "trusted": true
   },
   "execution_count": 23,
   "outputs": [
    {
     "name": "stdout",
     "text": "Accuracy of the model on the test images: 93.3724637532473%\n",
     "output_type": "stream"
    }
   ]
  },
  {
   "cell_type": "code",
   "source": [],
   "metadata": {
    "_uuid": "973d0a7b-6166-43ce-a091-19b0c57d7a83",
    "_cell_guid": "63c93f6f-e6db-4dd2-84ef-b8e4626ee939",
    "collapsed": false,
    "trusted": true
   },
   "execution_count": null,
   "outputs": []
  }
 ]
}
